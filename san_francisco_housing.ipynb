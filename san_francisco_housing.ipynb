{
 "cells": [
  {
   "cell_type": "markdown",
   "metadata": {},
   "source": [
    "# Housing Rental Analysis for San Francisco\n",
    "\n",
    "In this challenge, your job is to use your data visualization skills, including aggregation, interactive visualizations, and geospatial analysis, to find properties in the San Francisco market that are viable investment opportunities.\n",
    "\n",
    "## Instructions\n",
    "\n",
    "Use the `san_francisco_housing.ipynb` notebook to visualize and analyze the real-estate data.\n",
    "\n",
    "Note that this assignment requires you to create a visualization by using hvPlot and GeoViews. Additionally, you need to read the `sfo_neighborhoods_census_data.csv` file from the `Resources` folder into the notebook and create the DataFrame that you’ll use in the analysis.\n",
    "\n",
    "The main task in this Challenge is to visualize and analyze the real-estate data in your Jupyter notebook. Use the `san_francisco_housing.ipynb` notebook to complete the following tasks:\n",
    "\n",
    "* Calculate and plot the housing units per year.\n",
    "\n",
    "* Calculate and plot the average prices per square foot.\n",
    "\n",
    "* Compare the average prices by neighborhood.\n",
    "\n",
    "* Build an interactive neighborhood map.\n",
    "\n",
    "* Compose your data story.\n",
    "\n",
    "### Calculate and Plot the Housing Units per Year\n",
    "\n",
    "For this part of the assignment, use numerical and visual aggregation to calculate the number of housing units per year, and then visualize the results as a bar chart. To do so, complete the following steps:\n",
    "\n",
    "1. Use the `groupby` function to group the data by year. Aggregate the results by the `mean` of the groups.\n",
    "\n",
    "2. Use the `hvplot` function to plot the `housing_units_by_year` DataFrame as a bar chart. Make the x-axis represent the `year` and the y-axis represent the `housing_units`.\n",
    "\n",
    "3. Style and format the line plot to ensure a professionally styled visualization.\n",
    "\n",
    "4. Note that your resulting plot should appear similar to the following image:\n",
    "\n",
    "![A screenshot depicts an example of the resulting bar chart.](Images/zoomed-housing-units-by-year.png)\n",
    "\n",
    "5. Answer the following question:\n",
    "\n",
    "    * What’s the overall trend in housing units over the period that you’re analyzing?\n",
    "\n",
    "### Calculate and Plot the Average Sale Prices per Square Foot\n",
    "\n",
    "For this part of the assignment, use numerical and visual aggregation to calculate the average prices per square foot, and then visualize the results as a bar chart. To do so, complete the following steps:\n",
    "\n",
    "1. Group the data by year, and then average the results. What’s the lowest gross rent that’s reported for the years that the DataFrame includes?\n",
    "\n",
    "2. Create a new DataFrame named `prices_square_foot_by_year` by filtering out the “housing_units” column. The new DataFrame should include the averages per year for only the sale price per square foot and the gross rent.\n",
    "\n",
    "3. Use hvPlot to plot the `prices_square_foot_by_year` DataFrame as a line plot.\n",
    "\n",
    "    > **Hint** This single plot will include lines for both `sale_price_sqr_foot` and `gross_rent`.\n",
    "\n",
    "4. Style and format the line plot to ensure a professionally styled visualization.\n",
    "\n",
    "5. Note that your resulting plot should appear similar to the following image:\n",
    "\n",
    "![A screenshot depicts an example of the resulting plot.](Images/avg-sale-px-sq-foot-gross-rent.png)\n",
    "\n",
    "6. Use both the `prices_square_foot_by_year` DataFrame and interactive plots to answer the following questions:\n",
    "\n",
    "    * Did any year experience a drop in the average sale price per square foot compared to the previous year?\n",
    "\n",
    "    * If so, did the gross rent increase or decrease during that year?\n",
    "\n",
    "### Compare the Average Sale Prices by Neighborhood\n",
    "\n",
    "For this part of the assignment, use interactive visualizations and widgets to explore the average sale price per square foot by neighborhood. To do so, complete the following steps:\n",
    "\n",
    "1. Create a new DataFrame that groups the original DataFrame by year and neighborhood. Aggregate the results by the `mean` of the groups.\n",
    "\n",
    "2. Filter out the “housing_units” column to create a DataFrame that includes only the `sale_price_sqr_foot` and `gross_rent` averages per year.\n",
    "\n",
    "3. Create an interactive line plot with hvPlot that visualizes both `sale_price_sqr_foot` and `gross_rent`. Set the x-axis parameter to the year (`x=\"year\"`). Use the `groupby` parameter to create an interactive widget for `neighborhood`.\n",
    "\n",
    "4. Style and format the line plot to ensure a professionally styled visualization.\n",
    "\n",
    "5. Note that your resulting plot should appear similar to the following image:\n",
    "\n",
    "![A screenshot depicts an example of the resulting plot.](Images/pricing-info-by-neighborhood.png)\n",
    "\n",
    "6. Use the interactive visualization to answer the following question:\n",
    "\n",
    "    * For the Anza Vista neighborhood, is the average sale price per square foot for 2016 more or less than the price that’s listed for 2012? \n",
    "\n",
    "### Build an Interactive Neighborhood Map\n",
    "\n",
    "For this part of the assignment, explore the geospatial relationships in the data by using interactive visualizations with hvPlot and GeoViews. To build your map, use the `sfo_data_df` DataFrame (created during the initial import), which includes the neighborhood location data with the average prices. To do all this, complete the following steps:\n",
    "\n",
    "1. Read the `neighborhood_coordinates.csv` file from the `Resources` folder into the notebook, and create a DataFrame named `neighborhood_locations_df`. Be sure to set the `index_col` of the DataFrame as “Neighborhood”.\n",
    "\n",
    "2. Using the original `sfo_data_df` Dataframe, create a DataFrame named `all_neighborhood_info_df` that groups the data by neighborhood. Aggregate the results by the `mean` of the group.\n",
    "\n",
    "3. Review the two code cells that concatenate the `neighborhood_locations_df` DataFrame with the `all_neighborhood_info_df` DataFrame. Note that the first cell uses the [Pandas concat function](https://pandas.pydata.org/pandas-docs/stable/reference/api/pandas.concat.html) to create a DataFrame named `all_neighborhoods_df`. The second cell cleans the data and sets the “Neighborhood” column. Be sure to run these cells to create the `all_neighborhoods_df` DataFrame, which you’ll need to create the geospatial visualization.\n",
    "\n",
    "4. Using hvPlot with GeoViews enabled, create a `points` plot for the `all_neighborhoods_df` DataFrame. Be sure to do the following:\n",
    "\n",
    "    * Set the `geo` parameter to True.\n",
    "    * Set the `size` parameter to “sale_price_sqr_foot”.\n",
    "    * Set the `color` parameter to “gross_rent”.\n",
    "    * Set the `frame_width` parameter to 700.\n",
    "    * Set the `frame_height` parameter to 500.\n",
    "    * Include a descriptive title.\n",
    "\n",
    "Note that your resulting plot should appear similar to the following image:\n",
    "\n",
    "![A screenshot depicts an example of a scatter plot created with hvPlot and GeoViews.](Images/6-4-geoviews-plot.png)\n",
    "\n",
    "5. Use the interactive map to answer the following question:\n",
    "\n",
    "    * Which neighborhood has the highest gross rent, and which has the highest sale price per square foot?\n",
    "\n",
    "### Compose Your Data Story\n",
    "\n",
    "Based on the visualizations that you created, answer the following questions:\n",
    "\n",
    "* How does the trend in rental income growth compare to the trend in sales prices? Does this same trend hold true for all the neighborhoods across San Francisco?\n",
    "\n",
    "* What insights can you share with your company about the potential one-click, buy-and-rent strategy that they're pursuing? Do neighborhoods exist that you would suggest for investment, and why?"
   ]
  },
  {
   "cell_type": "code",
   "execution_count": 14,
   "metadata": {},
   "outputs": [],
   "source": [
    "# Import the required libraries and dependencies\n",
    "import pandas as pd\n",
    "import hvplot.pandas\n",
    "from pathlib import Path"
   ]
  },
  {
   "cell_type": "markdown",
   "metadata": {},
   "source": [
    "## Import the data "
   ]
  },
  {
   "cell_type": "code",
   "execution_count": 15,
   "metadata": {},
   "outputs": [
    {
     "data": {
      "text/html": [
       "<div>\n",
       "<style scoped>\n",
       "    .dataframe tbody tr th:only-of-type {\n",
       "        vertical-align: middle;\n",
       "    }\n",
       "\n",
       "    .dataframe tbody tr th {\n",
       "        vertical-align: top;\n",
       "    }\n",
       "\n",
       "    .dataframe thead th {\n",
       "        text-align: right;\n",
       "    }\n",
       "</style>\n",
       "<table border=\"1\" class=\"dataframe\">\n",
       "  <thead>\n",
       "    <tr style=\"text-align: right;\">\n",
       "      <th></th>\n",
       "      <th>year</th>\n",
       "      <th>neighborhood</th>\n",
       "      <th>sale_price_sqr_foot</th>\n",
       "      <th>housing_units</th>\n",
       "      <th>gross_rent</th>\n",
       "    </tr>\n",
       "  </thead>\n",
       "  <tbody>\n",
       "    <tr>\n",
       "      <th>392</th>\n",
       "      <td>2016</td>\n",
       "      <td>Telegraph Hill</td>\n",
       "      <td>903.049771</td>\n",
       "      <td>384242</td>\n",
       "      <td>4390</td>\n",
       "    </tr>\n",
       "    <tr>\n",
       "      <th>393</th>\n",
       "      <td>2016</td>\n",
       "      <td>Twin Peaks</td>\n",
       "      <td>970.085470</td>\n",
       "      <td>384242</td>\n",
       "      <td>4390</td>\n",
       "    </tr>\n",
       "    <tr>\n",
       "      <th>394</th>\n",
       "      <td>2016</td>\n",
       "      <td>Van Ness/ Civic Center</td>\n",
       "      <td>552.602567</td>\n",
       "      <td>384242</td>\n",
       "      <td>4390</td>\n",
       "    </tr>\n",
       "    <tr>\n",
       "      <th>395</th>\n",
       "      <td>2016</td>\n",
       "      <td>Visitacion Valley</td>\n",
       "      <td>328.319007</td>\n",
       "      <td>384242</td>\n",
       "      <td>4390</td>\n",
       "    </tr>\n",
       "    <tr>\n",
       "      <th>396</th>\n",
       "      <td>2016</td>\n",
       "      <td>Westwood Park</td>\n",
       "      <td>631.195426</td>\n",
       "      <td>384242</td>\n",
       "      <td>4390</td>\n",
       "    </tr>\n",
       "  </tbody>\n",
       "</table>\n",
       "</div>"
      ],
      "text/plain": [
       "     year            neighborhood  sale_price_sqr_foot  housing_units  \\\n",
       "392  2016          Telegraph Hill           903.049771         384242   \n",
       "393  2016              Twin Peaks           970.085470         384242   \n",
       "394  2016  Van Ness/ Civic Center           552.602567         384242   \n",
       "395  2016       Visitacion Valley           328.319007         384242   \n",
       "396  2016           Westwood Park           631.195426         384242   \n",
       "\n",
       "     gross_rent  \n",
       "392        4390  \n",
       "393        4390  \n",
       "394        4390  \n",
       "395        4390  \n",
       "396        4390  "
      ]
     },
     "execution_count": 15,
     "metadata": {},
     "output_type": "execute_result"
    }
   ],
   "source": [
    "# Using the read_csv function and Path module, create a DataFrame \n",
    "# by importing the sfo_neighborhoods_census_data.csv file from the Resources folder\n",
    "filepath = Path(\"Resources/sfo_neighborhoods_census_data.csv\")\n",
    "sfo_data_df = pd.read_csv(filepath)\n",
    "\n",
    "# Review the first and last five rows of the DataFrame\n",
    "sfo_data_df.head()\n",
    "sfo_data_df.tail()"
   ]
  },
  {
   "cell_type": "markdown",
   "metadata": {},
   "source": [
    "---"
   ]
  },
  {
   "cell_type": "markdown",
   "metadata": {},
   "source": [
    "## Calculate and Plot the Housing Units per Year\n",
    "\n",
    "For this part of the assignment, use numerical and visual aggregation to calculate the number of housing units per year, and then visualize the results as a bar chart. To do so, complete the following steps:\n",
    "\n",
    "1. Use the `groupby` function to group the data by year. Aggregate the results by the `mean` of the groups.\n",
    "\n",
    "2. Use the `hvplot` function to plot the `housing_units_by_year` DataFrame as a bar chart. Make the x-axis represent the `year` and the y-axis represent the `housing_units`.\n",
    "\n",
    "3. Style and format the line plot to ensure a professionally styled visualization.\n",
    "\n",
    "4. Note that your resulting plot should appear similar to the following image:\n",
    "\n",
    "![A screenshot depicts an example of the resulting bar chart.](Images/zoomed-housing-units-by-year.png)\n",
    "\n",
    "5. Answer the following question:\n",
    "\n",
    "    * What’s the overall trend in housing units over the period that you’re analyzing?\n",
    "\n"
   ]
  },
  {
   "cell_type": "markdown",
   "metadata": {},
   "source": [
    "### Step 1: Use the `groupby` function to group the data by year. Aggregate the results by the `mean` of the groups."
   ]
  },
  {
   "cell_type": "code",
   "execution_count": 16,
   "metadata": {},
   "outputs": [
    {
     "data": {
      "text/html": [
       "<div>\n",
       "<style scoped>\n",
       "    .dataframe tbody tr th:only-of-type {\n",
       "        vertical-align: middle;\n",
       "    }\n",
       "\n",
       "    .dataframe tbody tr th {\n",
       "        vertical-align: top;\n",
       "    }\n",
       "\n",
       "    .dataframe thead th {\n",
       "        text-align: right;\n",
       "    }\n",
       "</style>\n",
       "<table border=\"1\" class=\"dataframe\">\n",
       "  <thead>\n",
       "    <tr style=\"text-align: right;\">\n",
       "      <th></th>\n",
       "      <th>sale_price_sqr_foot</th>\n",
       "      <th>housing_units</th>\n",
       "      <th>gross_rent</th>\n",
       "    </tr>\n",
       "    <tr>\n",
       "      <th>year</th>\n",
       "      <th></th>\n",
       "      <th></th>\n",
       "      <th></th>\n",
       "    </tr>\n",
       "  </thead>\n",
       "  <tbody>\n",
       "    <tr>\n",
       "      <th>2010</th>\n",
       "      <td>369.344353</td>\n",
       "      <td>372560.0</td>\n",
       "      <td>1239.0</td>\n",
       "    </tr>\n",
       "    <tr>\n",
       "      <th>2011</th>\n",
       "      <td>341.903429</td>\n",
       "      <td>374507.0</td>\n",
       "      <td>1530.0</td>\n",
       "    </tr>\n",
       "    <tr>\n",
       "      <th>2012</th>\n",
       "      <td>399.389968</td>\n",
       "      <td>376454.0</td>\n",
       "      <td>2324.0</td>\n",
       "    </tr>\n",
       "    <tr>\n",
       "      <th>2013</th>\n",
       "      <td>483.600304</td>\n",
       "      <td>378401.0</td>\n",
       "      <td>2971.0</td>\n",
       "    </tr>\n",
       "    <tr>\n",
       "      <th>2014</th>\n",
       "      <td>556.277273</td>\n",
       "      <td>380348.0</td>\n",
       "      <td>3528.0</td>\n",
       "    </tr>\n",
       "    <tr>\n",
       "      <th>2015</th>\n",
       "      <td>632.540352</td>\n",
       "      <td>382295.0</td>\n",
       "      <td>3739.0</td>\n",
       "    </tr>\n",
       "    <tr>\n",
       "      <th>2016</th>\n",
       "      <td>697.643709</td>\n",
       "      <td>384242.0</td>\n",
       "      <td>4390.0</td>\n",
       "    </tr>\n",
       "  </tbody>\n",
       "</table>\n",
       "</div>"
      ],
      "text/plain": [
       "      sale_price_sqr_foot  housing_units  gross_rent\n",
       "year                                                \n",
       "2010           369.344353       372560.0      1239.0\n",
       "2011           341.903429       374507.0      1530.0\n",
       "2012           399.389968       376454.0      2324.0\n",
       "2013           483.600304       378401.0      2971.0\n",
       "2014           556.277273       380348.0      3528.0\n",
       "2015           632.540352       382295.0      3739.0\n",
       "2016           697.643709       384242.0      4390.0"
      ]
     },
     "execution_count": 16,
     "metadata": {},
     "output_type": "execute_result"
    }
   ],
   "source": [
    "# Create a numerical aggregation that groups the data by the year and then averages the results.\n",
    "housing_units_by_year = sfo_data_df.groupby(\"year\").mean()\n",
    "\n",
    "# Review the DataFrame\n",
    "housing_units_by_year"
   ]
  },
  {
   "cell_type": "markdown",
   "metadata": {},
   "source": [
    "### Step 2: Use the `hvplot` function to plot the `housing_units_by_year` DataFrame as a bar chart. Make the x-axis represent the `year` and the y-axis represent the `housing_units`.\n",
    "\n",
    "### Step 3: Style and format the line plot to ensure a professionally styled visualization."
   ]
  },
  {
   "cell_type": "code",
   "execution_count": 17,
   "metadata": {},
   "outputs": [
    {
     "data": {},
     "metadata": {},
     "output_type": "display_data"
    },
    {
     "data": {
      "application/vnd.holoviews_exec.v0+json": "",
      "text/html": [
       "<div id='1304'>\n",
       "  <div class=\"bk-root\" id=\"783e5a88-ba82-4521-8162-4b63620d743a\" data-root-id=\"1304\"></div>\n",
       "</div>\n",
       "<script type=\"application/javascript\">(function(root) {\n",
       "  function embed_document(root) {\n",
       "    var docs_json = {\"dd497e89-9ab3-4c74-9015-1c370ed07f14\":{\"defs\":[{\"extends\":null,\"module\":null,\"name\":\"ReactiveHTML1\",\"overrides\":[],\"properties\":[]},{\"extends\":null,\"module\":null,\"name\":\"FlexBox1\",\"overrides\":[],\"properties\":[{\"default\":\"flex-start\",\"kind\":null,\"name\":\"align_content\"},{\"default\":\"flex-start\",\"kind\":null,\"name\":\"align_items\"},{\"default\":\"row\",\"kind\":null,\"name\":\"flex_direction\"},{\"default\":\"wrap\",\"kind\":null,\"name\":\"flex_wrap\"},{\"default\":\"flex-start\",\"kind\":null,\"name\":\"justify_content\"}]},{\"extends\":null,\"module\":null,\"name\":\"GridStack1\",\"overrides\":[],\"properties\":[{\"default\":\"warn\",\"kind\":null,\"name\":\"mode\"},{\"default\":null,\"kind\":null,\"name\":\"ncols\"},{\"default\":null,\"kind\":null,\"name\":\"nrows\"},{\"default\":true,\"kind\":null,\"name\":\"allow_resize\"},{\"default\":true,\"kind\":null,\"name\":\"allow_drag\"},{\"default\":[],\"kind\":null,\"name\":\"state\"}]},{\"extends\":null,\"module\":null,\"name\":\"click1\",\"overrides\":[],\"properties\":[{\"default\":\"\",\"kind\":null,\"name\":\"terminal_output\"},{\"default\":\"\",\"kind\":null,\"name\":\"debug_name\"},{\"default\":0,\"kind\":null,\"name\":\"clears\"}]},{\"extends\":null,\"module\":null,\"name\":\"NotificationAreaBase1\",\"overrides\":[],\"properties\":[{\"default\":\"bottom-right\",\"kind\":null,\"name\":\"position\"},{\"default\":0,\"kind\":null,\"name\":\"_clear\"}]},{\"extends\":null,\"module\":null,\"name\":\"NotificationArea1\",\"overrides\":[],\"properties\":[{\"default\":[],\"kind\":null,\"name\":\"notifications\"},{\"default\":\"bottom-right\",\"kind\":null,\"name\":\"position\"},{\"default\":0,\"kind\":null,\"name\":\"_clear\"},{\"default\":[{\"background\":\"#ffc107\",\"icon\":{\"className\":\"fas fa-exclamation-triangle\",\"color\":\"white\",\"tagName\":\"i\"},\"type\":\"warning\"},{\"background\":\"#007bff\",\"icon\":{\"className\":\"fas fa-info-circle\",\"color\":\"white\",\"tagName\":\"i\"},\"type\":\"info\"}],\"kind\":null,\"name\":\"types\"}]},{\"extends\":null,\"module\":null,\"name\":\"Notification\",\"overrides\":[],\"properties\":[{\"default\":null,\"kind\":null,\"name\":\"background\"},{\"default\":3000,\"kind\":null,\"name\":\"duration\"},{\"default\":null,\"kind\":null,\"name\":\"icon\"},{\"default\":\"\",\"kind\":null,\"name\":\"message\"},{\"default\":null,\"kind\":null,\"name\":\"notification_type\"},{\"default\":false,\"kind\":null,\"name\":\"_destroyed\"}]},{\"extends\":null,\"module\":null,\"name\":\"TemplateActions1\",\"overrides\":[],\"properties\":[{\"default\":0,\"kind\":null,\"name\":\"open_modal\"},{\"default\":0,\"kind\":null,\"name\":\"close_modal\"}]},{\"extends\":null,\"module\":null,\"name\":\"MaterialTemplateActions1\",\"overrides\":[],\"properties\":[{\"default\":0,\"kind\":null,\"name\":\"open_modal\"},{\"default\":0,\"kind\":null,\"name\":\"close_modal\"}]}],\"roots\":{\"references\":[{\"attributes\":{\"children\":[{\"id\":\"1305\"},{\"id\":\"1309\"},{\"id\":\"1367\"}],\"margin\":[0,0,0,0],\"name\":\"Row01153\",\"tags\":[\"embedded\"]},\"id\":\"1304\",\"type\":\"Row\"},{\"attributes\":{\"axis_label\":\"Housing Units\",\"coordinates\":null,\"formatter\":{\"id\":\"1347\"},\"group\":null,\"major_label_policy\":{\"id\":\"1353\"},\"ticker\":{\"id\":\"1322\"}},\"id\":\"1321\",\"type\":\"LinearAxis\"},{\"attributes\":{\"callback\":null,\"renderers\":[{\"id\":\"1344\"}],\"tags\":[\"hv_created\"],\"tooltips\":[[\"year\",\"@{year}\"],[\"housing_units\",\"@{housing_units}\"]]},\"id\":\"1308\",\"type\":\"HoverTool\"},{\"attributes\":{\"fill_color\":{\"value\":\"lightblue\"},\"hatch_color\":{\"value\":\"lightblue\"},\"top\":{\"field\":\"housing_units\"},\"width\":{\"value\":0.8},\"x\":{\"field\":\"year\"}},\"id\":\"1341\",\"type\":\"VBar\"},{\"attributes\":{\"source\":{\"id\":\"1338\"}},\"id\":\"1345\",\"type\":\"CDSView\"},{\"attributes\":{\"coordinates\":null,\"data_source\":{\"id\":\"1338\"},\"glyph\":{\"id\":\"1341\"},\"group\":null,\"hover_glyph\":null,\"muted_glyph\":{\"id\":\"1343\"},\"nonselection_glyph\":{\"id\":\"1342\"},\"selection_glyph\":{\"id\":\"1346\"},\"view\":{\"id\":\"1345\"}},\"id\":\"1344\",\"type\":\"GlyphRenderer\"},{\"attributes\":{},\"id\":\"1349\",\"type\":\"CategoricalTickFormatter\"},{\"attributes\":{},\"id\":\"1325\",\"type\":\"SaveTool\"},{\"attributes\":{},\"id\":\"1353\",\"type\":\"AllLabels\"},{\"attributes\":{\"data\":{\"housing_units\":{\"__ndarray__\":\"AAAAAEC9FkEAAAAArNsWQQAAAAAY+hZBAAAAAIQYF0EAAAAA8DYXQQAAAABcVRdBAAAAAMhzF0E=\",\"dtype\":\"float64\",\"order\":\"little\",\"shape\":[7]},\"year\":[\"2010\",\"2011\",\"2012\",\"2013\",\"2014\",\"2015\",\"2016\"]},\"selected\":{\"id\":\"1339\"},\"selection_policy\":{\"id\":\"1364\"}},\"id\":\"1338\",\"type\":\"ColumnDataSource\"},{\"attributes\":{},\"id\":\"1326\",\"type\":\"PanTool\"},{\"attributes\":{},\"id\":\"1339\",\"type\":\"Selection\"},{\"attributes\":{},\"id\":\"1327\",\"type\":\"WheelZoomTool\"},{\"attributes\":{\"tools\":[{\"id\":\"1308\"},{\"id\":\"1325\"},{\"id\":\"1326\"},{\"id\":\"1327\"},{\"id\":\"1328\"},{\"id\":\"1329\"}]},\"id\":\"1331\",\"type\":\"Toolbar\"},{\"attributes\":{\"below\":[{\"id\":\"1318\"}],\"center\":[{\"id\":\"1320\"},{\"id\":\"1324\"}],\"height\":400,\"left\":[{\"id\":\"1321\"}],\"margin\":[5,5,5,5],\"min_border_bottom\":10,\"min_border_left\":10,\"min_border_right\":10,\"min_border_top\":10,\"renderers\":[{\"id\":\"1344\"}],\"sizing_mode\":\"fixed\",\"title\":{\"id\":\"1310\"},\"toolbar\":{\"id\":\"1331\"},\"width\":800,\"x_range\":{\"id\":\"1306\"},\"x_scale\":{\"id\":\"1314\"},\"y_range\":{\"id\":\"1307\"},\"y_scale\":{\"id\":\"1316\"}},\"id\":\"1309\",\"subtype\":\"Figure\",\"type\":\"Plot\"},{\"attributes\":{\"overlay\":{\"id\":\"1330\"}},\"id\":\"1328\",\"type\":\"BoxZoomTool\"},{\"attributes\":{\"margin\":[5,5,5,5],\"name\":\"HSpacer01157\",\"sizing_mode\":\"stretch_width\"},\"id\":\"1305\",\"type\":\"Spacer\"},{\"attributes\":{},\"id\":\"1314\",\"type\":\"CategoricalScale\"},{\"attributes\":{\"bottom\":{\"value\":0},\"fill_alpha\":{\"value\":1.0},\"fill_color\":{\"value\":\"lightblue\"},\"hatch_alpha\":{\"value\":1.0},\"hatch_color\":{\"value\":\"lightblue\"},\"hatch_scale\":{\"value\":12.0},\"hatch_weight\":{\"value\":1.0},\"line_alpha\":{\"value\":1.0},\"line_cap\":{\"value\":\"butt\"},\"line_color\":{\"value\":\"black\"},\"line_dash\":{\"value\":[]},\"line_dash_offset\":{\"value\":0},\"line_join\":{\"value\":\"bevel\"},\"line_width\":{\"value\":1},\"top\":{\"field\":\"housing_units\"},\"width\":{\"value\":0.8},\"x\":{\"field\":\"year\"}},\"id\":\"1346\",\"type\":\"VBar\"},{\"attributes\":{\"coordinates\":null,\"group\":null,\"text\":\"Housing Units in San Francisco by Year\",\"text_color\":\"black\",\"text_font_size\":\"12pt\"},\"id\":\"1310\",\"type\":\"Title\"},{\"attributes\":{\"margin\":[5,5,5,5],\"name\":\"HSpacer01158\",\"sizing_mode\":\"stretch_width\"},\"id\":\"1367\",\"type\":\"Spacer\"},{\"attributes\":{},\"id\":\"1329\",\"type\":\"ResetTool\"},{\"attributes\":{},\"id\":\"1364\",\"type\":\"UnionRenderers\"},{\"attributes\":{\"bottom_units\":\"screen\",\"coordinates\":null,\"fill_alpha\":0.5,\"fill_color\":\"lightgrey\",\"group\":null,\"left_units\":\"screen\",\"level\":\"overlay\",\"line_alpha\":1.0,\"line_color\":\"black\",\"line_dash\":[4,4],\"line_width\":2,\"right_units\":\"screen\",\"syncable\":false,\"top_units\":\"screen\"},\"id\":\"1330\",\"type\":\"BoxAnnotation\"},{\"attributes\":{\"axis\":{\"id\":\"1321\"},\"coordinates\":null,\"dimension\":1,\"group\":null,\"ticker\":{\"id\":\"1322\"}},\"id\":\"1324\",\"type\":\"Grid\"},{\"attributes\":{\"fill_alpha\":{\"value\":0.2},\"fill_color\":{\"value\":\"lightblue\"},\"hatch_alpha\":{\"value\":0.2},\"hatch_color\":{\"value\":\"lightblue\"},\"line_alpha\":{\"value\":0.2},\"top\":{\"field\":\"housing_units\"},\"width\":{\"value\":0.8},\"x\":{\"field\":\"year\"}},\"id\":\"1343\",\"type\":\"VBar\"},{\"attributes\":{},\"id\":\"1316\",\"type\":\"LinearScale\"},{\"attributes\":{\"fill_alpha\":{\"value\":0.1},\"fill_color\":{\"value\":\"lightblue\"},\"hatch_alpha\":{\"value\":0.1},\"hatch_color\":{\"value\":\"lightblue\"},\"line_alpha\":{\"value\":0.1},\"top\":{\"field\":\"housing_units\"},\"width\":{\"value\":0.8},\"x\":{\"field\":\"year\"}},\"id\":\"1342\",\"type\":\"VBar\"},{\"attributes\":{\"axis_label\":\"Year\",\"coordinates\":null,\"formatter\":{\"id\":\"1349\"},\"group\":null,\"major_label_orientation\":0.7853981633974483,\"major_label_policy\":{\"id\":\"1350\"},\"ticker\":{\"id\":\"1319\"}},\"id\":\"1318\",\"type\":\"CategoricalAxis\"},{\"attributes\":{\"end\":385410.2,\"reset_end\":385410.2,\"reset_start\":0.0,\"tags\":[[[\"housing_units\",\"housing_units\",null]]]},\"id\":\"1307\",\"type\":\"Range1d\"},{\"attributes\":{},\"id\":\"1319\",\"type\":\"CategoricalTicker\"},{\"attributes\":{},\"id\":\"1350\",\"type\":\"AllLabels\"},{\"attributes\":{\"factors\":[\"2010\",\"2011\",\"2012\",\"2013\",\"2014\",\"2015\",\"2016\"],\"tags\":[[[\"year\",\"year\",null]]]},\"id\":\"1306\",\"type\":\"FactorRange\"},{\"attributes\":{\"format\":\"%d\"},\"id\":\"1347\",\"type\":\"PrintfTickFormatter\"},{\"attributes\":{\"axis\":{\"id\":\"1318\"},\"coordinates\":null,\"group\":null,\"ticker\":{\"id\":\"1319\"}},\"id\":\"1320\",\"type\":\"Grid\"},{\"attributes\":{},\"id\":\"1322\",\"type\":\"BasicTicker\"}],\"root_ids\":[\"1304\"]},\"title\":\"Bokeh Application\",\"version\":\"2.4.3\"}};\n",
       "    var render_items = [{\"docid\":\"dd497e89-9ab3-4c74-9015-1c370ed07f14\",\"root_ids\":[\"1304\"],\"roots\":{\"1304\":\"783e5a88-ba82-4521-8162-4b63620d743a\"}}];\n",
       "    root.Bokeh.embed.embed_items_notebook(docs_json, render_items);\n",
       "  }\n",
       "  if (root.Bokeh !== undefined && root.Bokeh.Panel !== undefined) {\n",
       "    embed_document(root);\n",
       "  } else {\n",
       "    var attempts = 0;\n",
       "    var timer = setInterval(function(root) {\n",
       "      if (root.Bokeh !== undefined && root.Bokeh.Panel !== undefined) {\n",
       "        clearInterval(timer);\n",
       "        embed_document(root);\n",
       "      } else if (document.readyState == \"complete\") {\n",
       "        attempts++;\n",
       "        if (attempts > 200) {\n",
       "          clearInterval(timer);\n",
       "          console.log(\"Bokeh: ERROR: Unable to run BokehJS code because BokehJS library is missing\");\n",
       "        }\n",
       "      }\n",
       "    }, 25, root)\n",
       "  }\n",
       "})(window);</script>"
      ],
      "text/plain": [
       ":Bars   [year]   (housing_units)"
      ]
     },
     "execution_count": 17,
     "metadata": {
      "application/vnd.holoviews_exec.v0+json": {
       "id": "1304"
      }
     },
     "output_type": "execute_result"
    }
   ],
   "source": [
    "# Create a visual aggregation explore the housing units by year\n",
    "housing_units_by_year.hvplot.bar(\n",
    "    x=\"year\", \n",
    "    y=\"housing_units\", \n",
    "    title=\"Housing Units in San Francisco by Year\",\n",
    "    xlabel=\"Year\",\n",
    "    ylabel=\"Housing Units\",\n",
    "    rot=45,\n",
    "    height=400,\n",
    "    width=800,\n",
    "    grid=True,\n",
    "    yformatter=\"%d\",\n",
    "    value_label=\"Housing Units\",\n",
    "    c=\"lightblue\",\n",
    "    hover_cols=['year','housing_units'],\n",
    "    legend=False\n",
    ")"
   ]
  },
  {
   "cell_type": "markdown",
   "metadata": {},
   "source": [
    "### Step 5: Answer the following question:"
   ]
  },
  {
   "cell_type": "markdown",
   "metadata": {},
   "source": [
    "**Question:** What is the overall trend in housing_units over the period being analyzed?\n",
    "\n",
    "**Answer:** # YOUR ANSWER HERE"
   ]
  },
  {
   "cell_type": "markdown",
   "metadata": {},
   "source": [
    "---"
   ]
  },
  {
   "cell_type": "markdown",
   "metadata": {},
   "source": [
    "## Calculate and Plot the Average Sale Prices per Square Foot\n",
    "\n",
    "For this part of the assignment, use numerical and visual aggregation to calculate the average prices per square foot, and then visualize the results as a bar chart. To do so, complete the following steps:\n",
    "\n",
    "1. Group the data by year, and then average the results. What’s the lowest gross rent that’s reported for the years that the DataFrame includes?\n",
    "\n",
    "2. Create a new DataFrame named `prices_square_foot_by_year` by filtering out the “housing_units” column. The new DataFrame should include the averages per year for only the sale price per square foot and the gross rent.\n",
    "\n",
    "3. Use hvPlot to plot the `prices_square_foot_by_year` DataFrame as a line plot.\n",
    "\n",
    "    > **Hint** This single plot will include lines for both `sale_price_sqr_foot` and `gross_rent`.\n",
    "\n",
    "4. Style and format the line plot to ensure a professionally styled visualization.\n",
    "\n",
    "5. Note that your resulting plot should appear similar to the following image:\n",
    "\n",
    "![A screenshot depicts an example of the resulting plot.](Images/avg-sale-px-sq-foot-gross-rent.png)\n",
    "\n",
    "6. Use both the `prices_square_foot_by_year` DataFrame and interactive plots to answer the following questions:\n",
    "\n",
    "    * Did any year experience a drop in the average sale price per square foot compared to the previous year?\n",
    "\n",
    "    * If so, did the gross rent increase or decrease during that year?\n",
    "\n"
   ]
  },
  {
   "cell_type": "markdown",
   "metadata": {},
   "source": [
    "### Step 1: Group the data by year, and then average the results."
   ]
  },
  {
   "cell_type": "code",
   "execution_count": 18,
   "metadata": {},
   "outputs": [
    {
     "data": {
      "text/html": [
       "<div>\n",
       "<style scoped>\n",
       "    .dataframe tbody tr th:only-of-type {\n",
       "        vertical-align: middle;\n",
       "    }\n",
       "\n",
       "    .dataframe tbody tr th {\n",
       "        vertical-align: top;\n",
       "    }\n",
       "\n",
       "    .dataframe thead th {\n",
       "        text-align: right;\n",
       "    }\n",
       "</style>\n",
       "<table border=\"1\" class=\"dataframe\">\n",
       "  <thead>\n",
       "    <tr style=\"text-align: right;\">\n",
       "      <th></th>\n",
       "      <th>sale_price_sqr_foot</th>\n",
       "      <th>gross_rent</th>\n",
       "    </tr>\n",
       "    <tr>\n",
       "      <th>year</th>\n",
       "      <th></th>\n",
       "      <th></th>\n",
       "    </tr>\n",
       "  </thead>\n",
       "  <tbody>\n",
       "    <tr>\n",
       "      <th>2010</th>\n",
       "      <td>369.344353</td>\n",
       "      <td>1239.0</td>\n",
       "    </tr>\n",
       "    <tr>\n",
       "      <th>2011</th>\n",
       "      <td>341.903429</td>\n",
       "      <td>1530.0</td>\n",
       "    </tr>\n",
       "    <tr>\n",
       "      <th>2012</th>\n",
       "      <td>399.389968</td>\n",
       "      <td>2324.0</td>\n",
       "    </tr>\n",
       "    <tr>\n",
       "      <th>2013</th>\n",
       "      <td>483.600304</td>\n",
       "      <td>2971.0</td>\n",
       "    </tr>\n",
       "    <tr>\n",
       "      <th>2014</th>\n",
       "      <td>556.277273</td>\n",
       "      <td>3528.0</td>\n",
       "    </tr>\n",
       "    <tr>\n",
       "      <th>2015</th>\n",
       "      <td>632.540352</td>\n",
       "      <td>3739.0</td>\n",
       "    </tr>\n",
       "    <tr>\n",
       "      <th>2016</th>\n",
       "      <td>697.643709</td>\n",
       "      <td>4390.0</td>\n",
       "    </tr>\n",
       "  </tbody>\n",
       "</table>\n",
       "</div>"
      ],
      "text/plain": [
       "      sale_price_sqr_foot  gross_rent\n",
       "year                                 \n",
       "2010           369.344353      1239.0\n",
       "2011           341.903429      1530.0\n",
       "2012           399.389968      2324.0\n",
       "2013           483.600304      2971.0\n",
       "2014           556.277273      3528.0\n",
       "2015           632.540352      3739.0\n",
       "2016           697.643709      4390.0"
      ]
     },
     "execution_count": 18,
     "metadata": {},
     "output_type": "execute_result"
    }
   ],
   "source": [
    "# Create a numerical aggregation by grouping the data by year and averaging the results\n",
    "prices_square_foot_by_year = sfo_data_df.groupby(\"year\").mean()[[\"sale_price_sqr_foot\", \"gross_rent\"]]\n",
    "\n",
    "# Review the resulting DataFrame\n",
    "prices_square_foot_by_year"
   ]
  },
  {
   "cell_type": "markdown",
   "metadata": {},
   "source": [
    "**Question:** What is the lowest gross rent reported for the years included in the DataFrame?\n",
    "\n",
    "**Answer:** # YOUR ANSWER HERE"
   ]
  },
  {
   "cell_type": "markdown",
   "metadata": {},
   "source": [
    "### Step 2: Create a new DataFrame named `prices_square_foot_by_year` by filtering out the “housing_units” column. The new DataFrame should include the averages per year for only the sale price per square foot and the gross rent."
   ]
  },
  {
   "cell_type": "code",
   "execution_count": 19,
   "metadata": {},
   "outputs": [
    {
     "data": {
      "text/html": [
       "<div>\n",
       "<style scoped>\n",
       "    .dataframe tbody tr th:only-of-type {\n",
       "        vertical-align: middle;\n",
       "    }\n",
       "\n",
       "    .dataframe tbody tr th {\n",
       "        vertical-align: top;\n",
       "    }\n",
       "\n",
       "    .dataframe thead th {\n",
       "        text-align: right;\n",
       "    }\n",
       "</style>\n",
       "<table border=\"1\" class=\"dataframe\">\n",
       "  <thead>\n",
       "    <tr style=\"text-align: right;\">\n",
       "      <th></th>\n",
       "      <th>sale_price_sqr_foot</th>\n",
       "      <th>gross_rent</th>\n",
       "    </tr>\n",
       "    <tr>\n",
       "      <th>year</th>\n",
       "      <th></th>\n",
       "      <th></th>\n",
       "    </tr>\n",
       "  </thead>\n",
       "  <tbody>\n",
       "    <tr>\n",
       "      <th>2010</th>\n",
       "      <td>369.344353</td>\n",
       "      <td>1239.0</td>\n",
       "    </tr>\n",
       "    <tr>\n",
       "      <th>2011</th>\n",
       "      <td>341.903429</td>\n",
       "      <td>1530.0</td>\n",
       "    </tr>\n",
       "    <tr>\n",
       "      <th>2012</th>\n",
       "      <td>399.389968</td>\n",
       "      <td>2324.0</td>\n",
       "    </tr>\n",
       "    <tr>\n",
       "      <th>2013</th>\n",
       "      <td>483.600304</td>\n",
       "      <td>2971.0</td>\n",
       "    </tr>\n",
       "    <tr>\n",
       "      <th>2014</th>\n",
       "      <td>556.277273</td>\n",
       "      <td>3528.0</td>\n",
       "    </tr>\n",
       "    <tr>\n",
       "      <th>2015</th>\n",
       "      <td>632.540352</td>\n",
       "      <td>3739.0</td>\n",
       "    </tr>\n",
       "    <tr>\n",
       "      <th>2016</th>\n",
       "      <td>697.643709</td>\n",
       "      <td>4390.0</td>\n",
       "    </tr>\n",
       "  </tbody>\n",
       "</table>\n",
       "</div>"
      ],
      "text/plain": [
       "      sale_price_sqr_foot  gross_rent\n",
       "year                                 \n",
       "2010           369.344353      1239.0\n",
       "2011           341.903429      1530.0\n",
       "2012           399.389968      2324.0\n",
       "2013           483.600304      2971.0\n",
       "2014           556.277273      3528.0\n",
       "2015           632.540352      3739.0\n",
       "2016           697.643709      4390.0"
      ]
     },
     "execution_count": 19,
     "metadata": {},
     "output_type": "execute_result"
    }
   ],
   "source": [
    "# Filter out the housing_units column, creating a new DataFrame \n",
    "# Keep only sale_price_sqr_foot and gross_rent averages per year\n",
    "prices_square_foot_by_year = sfo_data_df.groupby(\"year\").mean()[[\"sale_price_sqr_foot\", \"gross_rent\"]]\n",
    "\n",
    "# Review the DataFrame\n",
    "prices_square_foot_by_year"
   ]
  },
  {
   "cell_type": "markdown",
   "metadata": {},
   "source": [
    "### Step 3: Use hvPlot to plot the `prices_square_foot_by_year` DataFrame as a line plot.\n",
    "\n",
    "> **Hint** This single plot will include lines for both `sale_price_sqr_foot` and `gross_rent`\n",
    "\n",
    "### Step 4: Style and format the line plot to ensure a professionally styled visualization.\n"
   ]
  },
  {
   "cell_type": "code",
   "execution_count": 20,
   "metadata": {},
   "outputs": [],
   "source": [
    "# Plot prices_square_foot_by_year. \n",
    "# Inclued labels for the x- and y-axes, and a title.\n",
    "# YOUR CODE HERE"
   ]
  },
  {
   "cell_type": "markdown",
   "metadata": {},
   "source": [
    "### Step 6: Use both the `prices_square_foot_by_year` DataFrame and interactive plots to answer the following questions:"
   ]
  },
  {
   "cell_type": "markdown",
   "metadata": {},
   "source": [
    "**Question:** Did any year experience a drop in the average sale price per square foot compared to the previous year?\n",
    "\n",
    "**Answer:** # YOUR ANSWER HERE"
   ]
  },
  {
   "cell_type": "markdown",
   "metadata": {},
   "source": [
    "**Question:** If so, did the gross rent increase or decrease during that year?\n",
    "\n",
    "**Answer:** # YOUR ANSWER HERE"
   ]
  },
  {
   "cell_type": "markdown",
   "metadata": {},
   "source": [
    "---"
   ]
  },
  {
   "cell_type": "markdown",
   "metadata": {},
   "source": [
    "## Compare the Average Sale Prices by Neighborhood\n",
    "\n",
    "For this part of the assignment, use interactive visualizations and widgets to explore the average sale price per square foot by neighborhood. To do so, complete the following steps:\n",
    "\n",
    "1. Create a new DataFrame that groups the original DataFrame by year and neighborhood. Aggregate the results by the `mean` of the groups.\n",
    "\n",
    "2. Filter out the “housing_units” column to create a DataFrame that includes only the `sale_price_sqr_foot` and `gross_rent` averages per year.\n",
    "\n",
    "3. Create an interactive line plot with hvPlot that visualizes both `sale_price_sqr_foot` and `gross_rent`. Set the x-axis parameter to the year (`x=\"year\"`). Use the `groupby` parameter to create an interactive widget for `neighborhood`.\n",
    "\n",
    "4. Style and format the line plot to ensure a professionally styled visualization.\n",
    "\n",
    "5. Note that your resulting plot should appear similar to the following image:\n",
    "\n",
    "![A screenshot depicts an example of the resulting plot.](Images/pricing-info-by-neighborhood.png)\n",
    "\n",
    "6. Use the interactive visualization to answer the following question:\n",
    "\n",
    "    * For the Anza Vista neighborhood, is the average sale price per square foot for 2016 more or less than the price that’s listed for 2012? \n"
   ]
  },
  {
   "cell_type": "markdown",
   "metadata": {},
   "source": [
    "### Step 1: Create a new DataFrame that groups the original DataFrame by year and neighborhood. Aggregate the results by the `mean` of the groups."
   ]
  },
  {
   "cell_type": "code",
   "execution_count": 21,
   "metadata": {},
   "outputs": [
    {
     "data": {
      "text/html": [
       "<div>\n",
       "<style scoped>\n",
       "    .dataframe tbody tr th:only-of-type {\n",
       "        vertical-align: middle;\n",
       "    }\n",
       "\n",
       "    .dataframe tbody tr th {\n",
       "        vertical-align: top;\n",
       "    }\n",
       "\n",
       "    .dataframe thead th {\n",
       "        text-align: right;\n",
       "    }\n",
       "</style>\n",
       "<table border=\"1\" class=\"dataframe\">\n",
       "  <thead>\n",
       "    <tr style=\"text-align: right;\">\n",
       "      <th></th>\n",
       "      <th></th>\n",
       "      <th>sale_price_sqr_foot</th>\n",
       "      <th>housing_units</th>\n",
       "      <th>gross_rent</th>\n",
       "    </tr>\n",
       "    <tr>\n",
       "      <th>year</th>\n",
       "      <th>neighborhood</th>\n",
       "      <th></th>\n",
       "      <th></th>\n",
       "      <th></th>\n",
       "    </tr>\n",
       "  </thead>\n",
       "  <tbody>\n",
       "    <tr>\n",
       "      <th rowspan=\"5\" valign=\"top\">2010</th>\n",
       "      <th>Alamo Square</th>\n",
       "      <td>291.182945</td>\n",
       "      <td>372560.0</td>\n",
       "      <td>1239.0</td>\n",
       "    </tr>\n",
       "    <tr>\n",
       "      <th>Anza Vista</th>\n",
       "      <td>267.932583</td>\n",
       "      <td>372560.0</td>\n",
       "      <td>1239.0</td>\n",
       "    </tr>\n",
       "    <tr>\n",
       "      <th>Bayview</th>\n",
       "      <td>170.098665</td>\n",
       "      <td>372560.0</td>\n",
       "      <td>1239.0</td>\n",
       "    </tr>\n",
       "    <tr>\n",
       "      <th>Buena Vista Park</th>\n",
       "      <td>347.394919</td>\n",
       "      <td>372560.0</td>\n",
       "      <td>1239.0</td>\n",
       "    </tr>\n",
       "    <tr>\n",
       "      <th>Central Richmond</th>\n",
       "      <td>319.027623</td>\n",
       "      <td>372560.0</td>\n",
       "      <td>1239.0</td>\n",
       "    </tr>\n",
       "    <tr>\n",
       "      <th>...</th>\n",
       "      <th>...</th>\n",
       "      <td>...</td>\n",
       "      <td>...</td>\n",
       "      <td>...</td>\n",
       "    </tr>\n",
       "    <tr>\n",
       "      <th rowspan=\"5\" valign=\"top\">2016</th>\n",
       "      <th>Telegraph Hill</th>\n",
       "      <td>903.049771</td>\n",
       "      <td>384242.0</td>\n",
       "      <td>4390.0</td>\n",
       "    </tr>\n",
       "    <tr>\n",
       "      <th>Twin Peaks</th>\n",
       "      <td>970.085470</td>\n",
       "      <td>384242.0</td>\n",
       "      <td>4390.0</td>\n",
       "    </tr>\n",
       "    <tr>\n",
       "      <th>Van Ness/ Civic Center</th>\n",
       "      <td>552.602567</td>\n",
       "      <td>384242.0</td>\n",
       "      <td>4390.0</td>\n",
       "    </tr>\n",
       "    <tr>\n",
       "      <th>Visitacion Valley</th>\n",
       "      <td>328.319007</td>\n",
       "      <td>384242.0</td>\n",
       "      <td>4390.0</td>\n",
       "    </tr>\n",
       "    <tr>\n",
       "      <th>Westwood Park</th>\n",
       "      <td>631.195426</td>\n",
       "      <td>384242.0</td>\n",
       "      <td>4390.0</td>\n",
       "    </tr>\n",
       "  </tbody>\n",
       "</table>\n",
       "<p>397 rows × 3 columns</p>\n",
       "</div>"
      ],
      "text/plain": [
       "                             sale_price_sqr_foot  housing_units  gross_rent\n",
       "year neighborhood                                                          \n",
       "2010 Alamo Square                     291.182945       372560.0      1239.0\n",
       "     Anza Vista                       267.932583       372560.0      1239.0\n",
       "     Bayview                          170.098665       372560.0      1239.0\n",
       "     Buena Vista Park                 347.394919       372560.0      1239.0\n",
       "     Central Richmond                 319.027623       372560.0      1239.0\n",
       "...                                          ...            ...         ...\n",
       "2016 Telegraph Hill                   903.049771       384242.0      4390.0\n",
       "     Twin Peaks                       970.085470       384242.0      4390.0\n",
       "     Van Ness/ Civic Center           552.602567       384242.0      4390.0\n",
       "     Visitacion Valley                328.319007       384242.0      4390.0\n",
       "     Westwood Park                    631.195426       384242.0      4390.0\n",
       "\n",
       "[397 rows x 3 columns]"
      ]
     },
     "execution_count": 21,
     "metadata": {},
     "output_type": "execute_result"
    }
   ],
   "source": [
    "# Group by year and neighborhood and then create a new dataframe of the mean values\n",
    "prices_by_year_by_neighborhood = sfo_data_df.groupby([\"year\", \"neighborhood\"]).mean()\n",
    "\n",
    "# Review the DataFrame\n",
    "prices_by_year_by_neighborhood"
   ]
  },
  {
   "cell_type": "markdown",
   "metadata": {},
   "source": [
    "### Step 2: Filter out the “housing_units” column to create a DataFrame that includes only the `sale_price_sqr_foot` and `gross_rent` averages per year."
   ]
  },
  {
   "cell_type": "code",
   "execution_count": 22,
   "metadata": {},
   "outputs": [
    {
     "data": {
      "text/html": [
       "<div>\n",
       "<style scoped>\n",
       "    .dataframe tbody tr th:only-of-type {\n",
       "        vertical-align: middle;\n",
       "    }\n",
       "\n",
       "    .dataframe tbody tr th {\n",
       "        vertical-align: top;\n",
       "    }\n",
       "\n",
       "    .dataframe thead th {\n",
       "        text-align: right;\n",
       "    }\n",
       "</style>\n",
       "<table border=\"1\" class=\"dataframe\">\n",
       "  <thead>\n",
       "    <tr style=\"text-align: right;\">\n",
       "      <th></th>\n",
       "      <th></th>\n",
       "      <th>sale_price_sqr_foot</th>\n",
       "      <th>gross_rent</th>\n",
       "    </tr>\n",
       "    <tr>\n",
       "      <th>year</th>\n",
       "      <th>neighborhood</th>\n",
       "      <th></th>\n",
       "      <th></th>\n",
       "    </tr>\n",
       "  </thead>\n",
       "  <tbody>\n",
       "    <tr>\n",
       "      <th rowspan=\"5\" valign=\"top\">2016</th>\n",
       "      <th>Telegraph Hill</th>\n",
       "      <td>903.049771</td>\n",
       "      <td>4390.0</td>\n",
       "    </tr>\n",
       "    <tr>\n",
       "      <th>Twin Peaks</th>\n",
       "      <td>970.085470</td>\n",
       "      <td>4390.0</td>\n",
       "    </tr>\n",
       "    <tr>\n",
       "      <th>Van Ness/ Civic Center</th>\n",
       "      <td>552.602567</td>\n",
       "      <td>4390.0</td>\n",
       "    </tr>\n",
       "    <tr>\n",
       "      <th>Visitacion Valley</th>\n",
       "      <td>328.319007</td>\n",
       "      <td>4390.0</td>\n",
       "    </tr>\n",
       "    <tr>\n",
       "      <th>Westwood Park</th>\n",
       "      <td>631.195426</td>\n",
       "      <td>4390.0</td>\n",
       "    </tr>\n",
       "  </tbody>\n",
       "</table>\n",
       "</div>"
      ],
      "text/plain": [
       "                             sale_price_sqr_foot  gross_rent\n",
       "year neighborhood                                           \n",
       "2016 Telegraph Hill                   903.049771      4390.0\n",
       "     Twin Peaks                       970.085470      4390.0\n",
       "     Van Ness/ Civic Center           552.602567      4390.0\n",
       "     Visitacion Valley                328.319007      4390.0\n",
       "     Westwood Park                    631.195426      4390.0"
      ]
     },
     "execution_count": 22,
     "metadata": {},
     "output_type": "execute_result"
    }
   ],
   "source": [
    "# Filter out the housing_units\n",
    "prices_by_year_by_neighborhood = prices_by_year_by_neighborhood[[\"sale_price_sqr_foot\", \"gross_rent\"]]\n",
    "\n",
    "\n",
    "# Review the first and last five rows of the DataFrame\n",
    "prices_by_year_by_neighborhood.head()\n",
    "prices_by_year_by_neighborhood.tail()"
   ]
  },
  {
   "cell_type": "markdown",
   "metadata": {},
   "source": [
    "### Step 3: Create an interactive line plot with hvPlot that visualizes both `sale_price_sqr_foot` and `gross_rent`. Set the x-axis parameter to the year (`x=\"year\"`). Use the `groupby` parameter to create an interactive widget for `neighborhood`.\n",
    "\n",
    "### Step 4: Style and format the line plot to ensure a professionally styled visualization."
   ]
  },
  {
   "cell_type": "code",
   "execution_count": 23,
   "metadata": {},
   "outputs": [
    {
     "data": {},
     "metadata": {},
     "output_type": "display_data"
    },
    {
     "data": {
      "application/vnd.holoviews_exec.v0+json": "",
      "text/html": [
       "<div id='1414'>\n",
       "  <div class=\"bk-root\" id=\"5a1e998d-3750-4ab5-a232-5d13312704f9\" data-root-id=\"1414\"></div>\n",
       "</div>\n",
       "<script type=\"application/javascript\">(function(root) {\n",
       "  function embed_document(root) {\n",
       "    var docs_json = {\"887662fc-90a2-4c70-a052-216ce6ff9692\":{\"defs\":[{\"extends\":null,\"module\":null,\"name\":\"ReactiveHTML1\",\"overrides\":[],\"properties\":[]},{\"extends\":null,\"module\":null,\"name\":\"FlexBox1\",\"overrides\":[],\"properties\":[{\"default\":\"flex-start\",\"kind\":null,\"name\":\"align_content\"},{\"default\":\"flex-start\",\"kind\":null,\"name\":\"align_items\"},{\"default\":\"row\",\"kind\":null,\"name\":\"flex_direction\"},{\"default\":\"wrap\",\"kind\":null,\"name\":\"flex_wrap\"},{\"default\":\"flex-start\",\"kind\":null,\"name\":\"justify_content\"}]},{\"extends\":null,\"module\":null,\"name\":\"GridStack1\",\"overrides\":[],\"properties\":[{\"default\":\"warn\",\"kind\":null,\"name\":\"mode\"},{\"default\":null,\"kind\":null,\"name\":\"ncols\"},{\"default\":null,\"kind\":null,\"name\":\"nrows\"},{\"default\":true,\"kind\":null,\"name\":\"allow_resize\"},{\"default\":true,\"kind\":null,\"name\":\"allow_drag\"},{\"default\":[],\"kind\":null,\"name\":\"state\"}]},{\"extends\":null,\"module\":null,\"name\":\"click1\",\"overrides\":[],\"properties\":[{\"default\":\"\",\"kind\":null,\"name\":\"terminal_output\"},{\"default\":\"\",\"kind\":null,\"name\":\"debug_name\"},{\"default\":0,\"kind\":null,\"name\":\"clears\"}]},{\"extends\":null,\"module\":null,\"name\":\"NotificationAreaBase1\",\"overrides\":[],\"properties\":[{\"default\":\"bottom-right\",\"kind\":null,\"name\":\"position\"},{\"default\":0,\"kind\":null,\"name\":\"_clear\"}]},{\"extends\":null,\"module\":null,\"name\":\"NotificationArea1\",\"overrides\":[],\"properties\":[{\"default\":[],\"kind\":null,\"name\":\"notifications\"},{\"default\":\"bottom-right\",\"kind\":null,\"name\":\"position\"},{\"default\":0,\"kind\":null,\"name\":\"_clear\"},{\"default\":[{\"background\":\"#ffc107\",\"icon\":{\"className\":\"fas fa-exclamation-triangle\",\"color\":\"white\",\"tagName\":\"i\"},\"type\":\"warning\"},{\"background\":\"#007bff\",\"icon\":{\"className\":\"fas fa-info-circle\",\"color\":\"white\",\"tagName\":\"i\"},\"type\":\"info\"}],\"kind\":null,\"name\":\"types\"}]},{\"extends\":null,\"module\":null,\"name\":\"Notification\",\"overrides\":[],\"properties\":[{\"default\":null,\"kind\":null,\"name\":\"background\"},{\"default\":3000,\"kind\":null,\"name\":\"duration\"},{\"default\":null,\"kind\":null,\"name\":\"icon\"},{\"default\":\"\",\"kind\":null,\"name\":\"message\"},{\"default\":null,\"kind\":null,\"name\":\"notification_type\"},{\"default\":false,\"kind\":null,\"name\":\"_destroyed\"}]},{\"extends\":null,\"module\":null,\"name\":\"TemplateActions1\",\"overrides\":[],\"properties\":[{\"default\":0,\"kind\":null,\"name\":\"open_modal\"},{\"default\":0,\"kind\":null,\"name\":\"close_modal\"}]},{\"extends\":null,\"module\":null,\"name\":\"MaterialTemplateActions1\",\"overrides\":[],\"properties\":[{\"default\":0,\"kind\":null,\"name\":\"open_modal\"},{\"default\":0,\"kind\":null,\"name\":\"close_modal\"}]}],\"roots\":{\"references\":[{\"attributes\":{\"line_color\":\"#30a2da\",\"line_width\":2,\"x\":{\"field\":\"year\"},\"y\":{\"field\":\"value\"}},\"id\":\"1466\",\"type\":\"Line\"},{\"attributes\":{\"axis\":{\"id\":\"1433\"},\"coordinates\":null,\"dimension\":1,\"group\":null,\"ticker\":{\"id\":\"1434\"}},\"id\":\"1436\",\"type\":\"Grid\"},{\"attributes\":{\"line_alpha\":0.2,\"line_color\":\"#30a2da\",\"line_width\":2,\"x\":{\"field\":\"year\"},\"y\":{\"field\":\"value\"}},\"id\":\"1468\",\"type\":\"Line\"},{\"attributes\":{\"coordinates\":null,\"data_source\":{\"id\":\"1482\"},\"glyph\":{\"id\":\"1485\"},\"group\":null,\"hover_glyph\":null,\"muted_glyph\":{\"id\":\"1487\"},\"nonselection_glyph\":{\"id\":\"1486\"},\"selection_glyph\":{\"id\":\"1501\"},\"view\":{\"id\":\"1489\"}},\"id\":\"1488\",\"type\":\"GlyphRenderer\"},{\"attributes\":{},\"id\":\"1454\",\"type\":\"AllLabels\"},{\"attributes\":{\"margin\":[5,5,5,5],\"name\":\"HSpacer01211\",\"sizing_mode\":\"stretch_width\"},\"id\":\"1519\",\"type\":\"Spacer\"},{\"attributes\":{\"coordinates\":null,\"data_source\":{\"id\":\"1463\"},\"glyph\":{\"id\":\"1466\"},\"group\":null,\"hover_glyph\":null,\"muted_glyph\":{\"id\":\"1468\"},\"nonselection_glyph\":{\"id\":\"1467\"},\"selection_glyph\":{\"id\":\"1481\"},\"view\":{\"id\":\"1470\"}},\"id\":\"1469\",\"type\":\"GlyphRenderer\"},{\"attributes\":{\"axis\":{\"id\":\"1429\"},\"coordinates\":null,\"group\":null,\"ticker\":{\"id\":\"1450\"}},\"id\":\"1432\",\"type\":\"Grid\"},{\"attributes\":{\"line_color\":\"#30a2da\",\"line_width\":2,\"x\":{\"field\":\"year\"},\"y\":{\"field\":\"value\"}},\"id\":\"1481\",\"type\":\"Line\"},{\"attributes\":{\"line_alpha\":0.1,\"line_color\":\"#fc4f30\",\"line_width\":2,\"x\":{\"field\":\"year\"},\"y\":{\"field\":\"value\"}},\"id\":\"1486\",\"type\":\"Line\"},{\"attributes\":{\"callback\":null,\"renderers\":[{\"id\":\"1469\"},{\"id\":\"1488\"}],\"tags\":[\"hv_created\"],\"tooltips\":[[\"Variable\",\"@{Variable}\"],[\"year\",\"@{year}\"],[\"value\",\"@{value}\"]]},\"id\":\"1418\",\"type\":\"HoverTool\"},{\"attributes\":{},\"id\":\"1434\",\"type\":\"BasicTicker\"},{\"attributes\":{\"axis_label\":\"Price per Square Foot / Gross Rent\",\"coordinates\":null,\"formatter\":{\"id\":\"1451\"},\"group\":null,\"major_label_policy\":{\"id\":\"1459\"},\"ticker\":{\"id\":\"1434\"}},\"id\":\"1433\",\"type\":\"LinearAxis\"},{\"attributes\":{\"children\":[{\"id\":\"1415\"},{\"id\":\"1420\"},{\"id\":\"1519\"},{\"id\":\"1520\"}],\"margin\":[0,0,0,0],\"name\":\"Row01201\"},\"id\":\"1414\",\"type\":\"Row\"},{\"attributes\":{\"data\":{\"Variable\":[\"sale_price_sqr_foot\",\"sale_price_sqr_foot\",\"sale_price_sqr_foot\",\"sale_price_sqr_foot\",\"sale_price_sqr_foot\",\"sale_price_sqr_foot\",\"sale_price_sqr_foot\"],\"value\":{\"__ndarray__\":\"DUc7WO0yckCafszcbwhxQIKRs5ot42ZAKDog0LQ8eEAVMinKGEd+QI4V5FDt0IJAVCHcmLVPdUA=\",\"dtype\":\"float64\",\"order\":\"little\",\"shape\":[7]},\"year\":[2010,2011,2012,2013,2014,2015,2016]},\"selected\":{\"id\":\"1464\"},\"selection_policy\":{\"id\":\"1476\"}},\"id\":\"1463\",\"type\":\"ColumnDataSource\"},{\"attributes\":{\"format\":\"$%.2f\"},\"id\":\"1451\",\"type\":\"PrintfTickFormatter\"},{\"attributes\":{\"margin\":[5,5,5,5],\"name\":\"VSpacer01208\",\"sizing_mode\":\"stretch_height\"},\"id\":\"1524\",\"type\":\"Spacer\"},{\"attributes\":{\"line_alpha\":0.1,\"line_color\":\"#30a2da\",\"line_width\":2,\"x\":{\"field\":\"year\"},\"y\":{\"field\":\"value\"}},\"id\":\"1467\",\"type\":\"Line\"},{\"attributes\":{\"line_alpha\":0.2,\"line_color\":\"#fc4f30\",\"line_width\":2,\"x\":{\"field\":\"year\"},\"y\":{\"field\":\"value\"}},\"id\":\"1487\",\"type\":\"Line\"},{\"attributes\":{\"minor_ticks\":[],\"ticks\":[2010,2012,2014,2016,2018,2020]},\"id\":\"1450\",\"type\":\"FixedTicker\"},{\"attributes\":{},\"id\":\"1497\",\"type\":\"UnionRenderers\"},{\"attributes\":{\"below\":[{\"id\":\"1429\"}],\"center\":[{\"id\":\"1432\"},{\"id\":\"1436\"}],\"height\":500,\"left\":[{\"id\":\"1433\"}],\"margin\":[5,5,5,5],\"min_border_bottom\":10,\"min_border_left\":10,\"min_border_right\":10,\"min_border_top\":10,\"renderers\":[{\"id\":\"1469\"},{\"id\":\"1488\"}],\"right\":[{\"id\":\"1479\"}],\"sizing_mode\":\"fixed\",\"title\":{\"id\":\"1421\"},\"toolbar\":{\"id\":\"1443\"},\"width\":800,\"x_range\":{\"id\":\"1416\"},\"x_scale\":{\"id\":\"1425\"},\"y_range\":{\"id\":\"1417\"},\"y_scale\":{\"id\":\"1427\"}},\"id\":\"1420\",\"subtype\":\"Figure\",\"type\":\"Plot\"},{\"attributes\":{\"source\":{\"id\":\"1482\"}},\"id\":\"1489\",\"type\":\"CDSView\"},{\"attributes\":{},\"id\":\"1464\",\"type\":\"Selection\"},{\"attributes\":{\"label\":{\"value\":\"gross_rent\"},\"renderers\":[{\"id\":\"1488\"}]},\"id\":\"1500\",\"type\":\"LegendItem\"},{\"attributes\":{\"client_comm_id\":\"8b1bfdf86d2d49eeb2f8dcddcf854e1d\",\"comm_id\":\"8a4f9fb4b5bc40559726555898d94e63\",\"plot_id\":\"1414\"},\"id\":\"1555\",\"type\":\"panel.models.comm_manager.CommManager\"},{\"attributes\":{},\"id\":\"1476\",\"type\":\"UnionRenderers\"},{\"attributes\":{\"source\":{\"id\":\"1463\"}},\"id\":\"1470\",\"type\":\"CDSView\"},{\"attributes\":{\"click_policy\":\"mute\",\"coordinates\":null,\"group\":null,\"items\":[{\"id\":\"1480\"},{\"id\":\"1500\"}],\"location\":[0,0],\"title\":\"Variable\"},\"id\":\"1479\",\"type\":\"Legend\"},{\"attributes\":{\"line_color\":\"#fc4f30\",\"line_width\":2,\"x\":{\"field\":\"year\"},\"y\":{\"field\":\"value\"}},\"id\":\"1501\",\"type\":\"Line\"},{\"attributes\":{},\"id\":\"1459\",\"type\":\"AllLabels\"},{\"attributes\":{},\"id\":\"1437\",\"type\":\"SaveTool\"},{\"attributes\":{\"line_color\":\"#fc4f30\",\"line_width\":2,\"x\":{\"field\":\"year\"},\"y\":{\"field\":\"value\"}},\"id\":\"1485\",\"type\":\"Line\"},{\"attributes\":{\"margin\":[5,5,5,5],\"name\":\"VSpacer01207\",\"sizing_mode\":\"stretch_height\"},\"id\":\"1521\",\"type\":\"Spacer\"},{\"attributes\":{},\"id\":\"1438\",\"type\":\"PanTool\"},{\"attributes\":{\"label\":{\"value\":\"sale_price_sqr_foot\"},\"renderers\":[{\"id\":\"1469\"}]},\"id\":\"1480\",\"type\":\"LegendItem\"},{\"attributes\":{},\"id\":\"1453\",\"type\":\"BasicTickFormatter\"},{\"attributes\":{\"margin\":[20,20,20,20],\"min_width\":250,\"options\":[\"Alamo Square\",\"Anza Vista\",\"Bayview\",\"Buena Vista Park\",\"Central Richmond\",\"Central Sunset\",\"Corona Heights\",\"Cow Hollow\",\"Croker Amazon\",\"Diamond Heights\",\"Downtown \",\"Eureka Valley/Dolores Heights\",\"Excelsior\",\"Financial District North\",\"Financial District South\",\"Forest Knolls\",\"Glen Park\",\"Golden Gate Heights\",\"Haight Ashbury\",\"Hayes Valley\",\"Hunters Point\",\"Ingleside \",\"Inner Mission\",\"Inner Parkside\",\"Inner Richmond\",\"Inner Sunset\",\"Jordan Park/Laurel Heights\",\"Lake --The Presidio\",\"Lone Mountain\",\"Lower Pacific Heights\",\"Marina\",\"Miraloma Park\",\"Mission Bay\",\"Mission Dolores\",\"Mission Terrace\",\"Nob Hill\",\"Noe Valley\",\"Oceanview\",\"Outer Parkside\",\"Outer Richmond \",\"Outer Sunset\",\"Pacific Heights\",\"Park North\",\"Parkside\",\"Parnassus/Ashbury Heights\",\"Portola\",\"Potrero Hill\",\"Presidio Heights\",\"Russian Hill\",\"South Beach\",\"South of Market\",\"Sunnyside\",\"Telegraph Hill\",\"Twin Peaks\",\"Union Square District\",\"Van Ness/ Civic Center\",\"West Portal\",\"Western Addition\",\"Yerba Buena\",\"Bernal Heights \",\"Clarendon Heights\",\"Duboce Triangle\",\"Ingleside Heights\",\"North Beach\",\"North Waterfront\",\"Outer Mission\",\"Westwood Highlands\",\"Merced Heights\",\"Midtown Terrace\",\"Visitacion Valley\",\"Silver Terrace\",\"Westwood Park\",\"Bayview Heights\"],\"title\":\"neighborhood\",\"value\":\"Alamo Square\",\"width\":250},\"id\":\"1523\",\"type\":\"panel.models.widgets.CustomSelect\"},{\"attributes\":{},\"id\":\"1439\",\"type\":\"WheelZoomTool\"},{\"attributes\":{},\"id\":\"1483\",\"type\":\"Selection\"},{\"attributes\":{\"tools\":[{\"id\":\"1418\"},{\"id\":\"1437\"},{\"id\":\"1438\"},{\"id\":\"1439\"},{\"id\":\"1440\"},{\"id\":\"1441\"}]},\"id\":\"1443\",\"type\":\"Toolbar\"},{\"attributes\":{},\"id\":\"1425\",\"type\":\"LinearScale\"},{\"attributes\":{\"end\":4810.690068306854,\"reset_end\":4810.690068306854,\"reset_start\":-237.59075137539725,\"start\":-237.59075137539725,\"tags\":[[[\"value\",\"value\",null]]]},\"id\":\"1417\",\"type\":\"Range1d\"},{\"attributes\":{\"overlay\":{\"id\":\"1442\"}},\"id\":\"1440\",\"type\":\"BoxZoomTool\"},{\"attributes\":{\"end\":2016.0,\"reset_end\":2016.0,\"reset_start\":2010.0,\"start\":2010.0,\"tags\":[[[\"year\",\"year\",null]]]},\"id\":\"1416\",\"type\":\"Range1d\"},{\"attributes\":{\"children\":[{\"id\":\"1521\"},{\"id\":\"1522\"},{\"id\":\"1524\"}],\"margin\":[0,0,0,0],\"name\":\"Column01209\"},\"id\":\"1520\",\"type\":\"Column\"},{\"attributes\":{\"coordinates\":null,\"group\":null,\"text\":\"Average Sale Price per Square Foot and Gross Rent by Neighborhood\",\"text_color\":\"black\",\"text_font_size\":\"12pt\"},\"id\":\"1421\",\"type\":\"Title\"},{\"attributes\":{\"margin\":[5,5,5,5],\"name\":\"HSpacer01210\",\"sizing_mode\":\"stretch_width\"},\"id\":\"1415\",\"type\":\"Spacer\"},{\"attributes\":{},\"id\":\"1441\",\"type\":\"ResetTool\"},{\"attributes\":{\"children\":[{\"id\":\"1523\"}],\"css_classes\":[\"panel-widget-box\"],\"margin\":[5,5,5,5],\"name\":\"WidgetBox01202\"},\"id\":\"1522\",\"type\":\"Column\"},{\"attributes\":{\"data\":{\"Variable\":[\"gross_rent\",\"gross_rent\",\"gross_rent\",\"gross_rent\",\"gross_rent\",\"gross_rent\",\"gross_rent\"],\"value\":{\"__ndarray__\":\"AAAAAABck0AAAAAAAOiXQAAAAAAAKKJAAAAAAAA2p0AAAAAAAJCrQAAAAAAANq1AAAAAAAAmsUA=\",\"dtype\":\"float64\",\"order\":\"little\",\"shape\":[7]},\"year\":[2010,2011,2012,2013,2014,2015,2016]},\"selected\":{\"id\":\"1483\"},\"selection_policy\":{\"id\":\"1497\"}},\"id\":\"1482\",\"type\":\"ColumnDataSource\"},{\"attributes\":{\"bottom_units\":\"screen\",\"coordinates\":null,\"fill_alpha\":0.5,\"fill_color\":\"lightgrey\",\"group\":null,\"left_units\":\"screen\",\"level\":\"overlay\",\"line_alpha\":1.0,\"line_color\":\"black\",\"line_dash\":[4,4],\"line_width\":2,\"right_units\":\"screen\",\"syncable\":false,\"top_units\":\"screen\"},\"id\":\"1442\",\"type\":\"BoxAnnotation\"},{\"attributes\":{},\"id\":\"1427\",\"type\":\"LinearScale\"},{\"attributes\":{\"axis_label\":\"Year\",\"coordinates\":null,\"formatter\":{\"id\":\"1453\"},\"group\":null,\"major_label_policy\":{\"id\":\"1454\"},\"ticker\":{\"id\":\"1450\"}},\"id\":\"1429\",\"type\":\"LinearAxis\"}],\"root_ids\":[\"1414\",\"1555\"]},\"title\":\"Bokeh Application\",\"version\":\"2.4.3\"}};\n",
       "    var render_items = [{\"docid\":\"887662fc-90a2-4c70-a052-216ce6ff9692\",\"root_ids\":[\"1414\"],\"roots\":{\"1414\":\"5a1e998d-3750-4ab5-a232-5d13312704f9\"}}];\n",
       "    root.Bokeh.embed.embed_items_notebook(docs_json, render_items);\n",
       "  }\n",
       "  if (root.Bokeh !== undefined && root.Bokeh.Panel !== undefined) {\n",
       "    embed_document(root);\n",
       "  } else {\n",
       "    var attempts = 0;\n",
       "    var timer = setInterval(function(root) {\n",
       "      if (root.Bokeh !== undefined && root.Bokeh.Panel !== undefined) {\n",
       "        clearInterval(timer);\n",
       "        embed_document(root);\n",
       "      } else if (document.readyState == \"complete\") {\n",
       "        attempts++;\n",
       "        if (attempts > 200) {\n",
       "          clearInterval(timer);\n",
       "          console.log(\"Bokeh: ERROR: Unable to run BokehJS code because BokehJS library is missing\");\n",
       "        }\n",
       "      }\n",
       "    }, 25, root)\n",
       "  }\n",
       "})(window);</script>"
      ],
      "text/plain": [
       ":DynamicMap   [neighborhood]\n",
       "   :NdOverlay   [Variable]\n",
       "      :Curve   [year]   (value)"
      ]
     },
     "execution_count": 23,
     "metadata": {
      "application/vnd.holoviews_exec.v0+json": {
       "id": "1414"
      }
     },
     "output_type": "execute_result"
    }
   ],
   "source": [
    "# Use hvplot to create an interactive line plot of the average price per square foot\n",
    "# The plot should have a dropdown selector for the neighborhood\n",
    "prices_by_year_by_neighborhood.hvplot.line(\n",
    "    x=\"year\", \n",
    "    y=[\"sale_price_sqr_foot\", \"gross_rent\"], \n",
    "    groupby=\"neighborhood\",\n",
    "    title=\"Average Sale Price per Square Foot and Gross Rent by Neighborhood\",\n",
    "    xlabel=\"Year\",\n",
    "    ylabel=\"Price per Square Foot / Gross Rent\",\n",
    "    width=800,\n",
    "    height=500,\n",
    "    yformatter=\"$%.2f\",\n",
    "    xticks=list(range(2010,2022,2)),\n",
    "    legend=True,\n",
    "    grid=True\n",
    ")"
   ]
  },
  {
   "cell_type": "markdown",
   "metadata": {},
   "source": [
    "### Step 6: Use the interactive visualization to answer the following question:"
   ]
  },
  {
   "cell_type": "markdown",
   "metadata": {},
   "source": [
    "**Question:** For the Anza Vista neighborhood, is the average sale price per square foot for 2016 more or less than the price that’s listed for 2012? \n",
    "\n",
    "**Answer:** # YOUR ANSWER HERE"
   ]
  },
  {
   "cell_type": "markdown",
   "metadata": {},
   "source": [
    "---"
   ]
  },
  {
   "cell_type": "markdown",
   "metadata": {},
   "source": [
    "## Build an Interactive Neighborhood Map\n",
    "\n",
    "For this part of the assignment, explore the geospatial relationships in the data by using interactive visualizations with hvPlot and GeoViews. To build your map, use the `sfo_data_df` DataFrame (created during the initial import), which includes the neighborhood location data with the average prices. To do all this, complete the following steps:\n",
    "\n",
    "1. Read the `neighborhood_coordinates.csv` file from the `Resources` folder into the notebook, and create a DataFrame named `neighborhood_locations_df`. Be sure to set the `index_col` of the DataFrame as “Neighborhood”.\n",
    "\n",
    "2. Using the original `sfo_data_df` Dataframe, create a DataFrame named `all_neighborhood_info_df` that groups the data by neighborhood. Aggregate the results by the `mean` of the group.\n",
    "\n",
    "3. Review the two code cells that concatenate the `neighborhood_locations_df` DataFrame with the `all_neighborhood_info_df` DataFrame. Note that the first cell uses the [Pandas concat function](https://pandas.pydata.org/pandas-docs/stable/reference/api/pandas.concat.html) to create a DataFrame named `all_neighborhoods_df`. The second cell cleans the data and sets the “Neighborhood” column. Be sure to run these cells to create the `all_neighborhoods_df` DataFrame, which you’ll need to create the geospatial visualization.\n",
    "\n",
    "4. Using hvPlot with GeoViews enabled, create a `points` plot for the `all_neighborhoods_df` DataFrame. Be sure to do the following:\n",
    "\n",
    "    * Set the `size` parameter to “sale_price_sqr_foot”.\n",
    "\n",
    "    * Set the `color` parameter to “gross_rent”.\n",
    "\n",
    "    * Set the `size_max` parameter to “25”.\n",
    "\n",
    "    * Set the `zoom` parameter to “11”.\n",
    "\n",
    "Note that your resulting plot should appear similar to the following image:\n",
    "\n",
    "![A screenshot depicts an example of a scatter plot created with hvPlot and GeoViews.](Images/6-4-geoviews-plot.png)\n",
    "\n",
    "5. Use the interactive map to answer the following question:\n",
    "\n",
    "    * Which neighborhood has the highest gross rent, and which has the highest sale price per square foot?\n"
   ]
  },
  {
   "cell_type": "markdown",
   "metadata": {},
   "source": [
    "### Step 1: Read the `neighborhood_coordinates.csv` file from the `Resources` folder into the notebook, and create a DataFrame named `neighborhood_locations_df`. Be sure to set the `index_col` of the DataFrame as “Neighborhood”."
   ]
  },
  {
   "cell_type": "code",
   "execution_count": null,
   "metadata": {},
   "outputs": [],
   "source": [
    "# Load neighborhoods coordinates data\n",
    "neighborhood_locations_df = pd.read_csv(\"Resources/neighborhood_coordinates.csv\", index_col=\"Neighborhood\")\n",
    "\n",
    "# Review the DataFrame\n",
    "neighborhood_locations_df"
   ]
  },
  {
   "cell_type": "markdown",
   "metadata": {},
   "source": [
    "### Step 2: Using the original `sfo_data_df` Dataframe, create a DataFrame named `all_neighborhood_info_df` that groups the data by neighborhood. Aggregate the results by the `mean` of the group."
   ]
  },
  {
   "cell_type": "code",
   "execution_count": null,
   "metadata": {},
   "outputs": [],
   "source": [
    "# Calculate the mean values for each neighborhood\n",
    "all_neighborhood_info_df = # YOUR CODE HERE\n",
    "\n",
    "# Review the resulting DataFrame\n",
    "# YOUR CODE HERE"
   ]
  },
  {
   "cell_type": "markdown",
   "metadata": {},
   "source": [
    "### Step 3: Review the two code cells that concatenate the `neighborhood_locations_df` DataFrame with the `all_neighborhood_info_df` DataFrame. \n",
    "\n",
    "Note that the first cell uses the [Pandas concat function](https://pandas.pydata.org/pandas-docs/stable/reference/api/pandas.concat.html) to create a DataFrame named `all_neighborhoods_df`. \n",
    "\n",
    "The second cell cleans the data and sets the “Neighborhood” column. \n",
    "\n",
    "Be sure to run these cells to create the `all_neighborhoods_df` DataFrame, which you’ll need to create the geospatial visualization."
   ]
  },
  {
   "cell_type": "code",
   "execution_count": null,
   "metadata": {},
   "outputs": [],
   "source": [
    "# Using the Pandas `concat` function, join the \n",
    "# neighborhood_locations_df and the all_neighborhood_info_df DataFrame\n",
    "# The axis of the concatenation is \"columns\".\n",
    "# The concat function will automatially combine columns with\n",
    "# identical information, while keeping the additional columns.\n",
    "all_neighborhoods_df = pd.concat(\n",
    "    [neighborhood_locations_df, all_neighborhood_info_df], \n",
    "    axis=\"columns\",\n",
    "    sort=False\n",
    ")\n",
    "\n",
    "# Review the resulting DataFrame\n",
    "display(all_neighborhoods_df.head())\n",
    "display(all_neighborhoods_df.tail())\n"
   ]
  },
  {
   "cell_type": "code",
   "execution_count": null,
   "metadata": {},
   "outputs": [],
   "source": [
    "# Call the dropna function to remove any neighborhoods that do not have data\n",
    "all_neighborhoods_df = all_neighborhoods_df.reset_index().dropna()\n",
    "\n",
    "# Rename the \"index\" column as \"Neighborhood\" for use in the Visualization\n",
    "all_neighborhoods_df = all_neighborhoods_df.rename(columns={\"index\": \"Neighborhood\"})\n",
    "\n",
    "# Review the resulting DataFrame\n",
    "display(all_neighborhoods_df.head())\n",
    "display(all_neighborhoods_df.tail())"
   ]
  },
  {
   "cell_type": "markdown",
   "metadata": {},
   "source": [
    "### Step 4: Using hvPlot with GeoViews enabled, create a `points` plot for the `all_neighborhoods_df` DataFrame. Be sure to do the following:\n",
    "\n",
    "* Set the `geo` parameter to True.\n",
    "* Set the `size` parameter to “sale_price_sqr_foot”.\n",
    "* Set the `color` parameter to “gross_rent”.\n",
    "* Set the `frame_width` parameter to 700.\n",
    "* Set the `frame_height` parameter to 500.\n",
    "* Include a descriptive title."
   ]
  },
  {
   "cell_type": "code",
   "execution_count": null,
   "metadata": {},
   "outputs": [],
   "source": [
    "# Create a plot to analyze neighborhood info\n",
    "# YOUR CODE HERE"
   ]
  },
  {
   "cell_type": "markdown",
   "metadata": {},
   "source": [
    "### Step 5: Use the interactive map to answer the following question:"
   ]
  },
  {
   "cell_type": "markdown",
   "metadata": {},
   "source": [
    "**Question:** Which neighborhood has the highest gross rent, and which has the highest sale price per square foot?\n",
    "\n",
    "**Answer:** # YOUR ANSWER HERE"
   ]
  },
  {
   "cell_type": "markdown",
   "metadata": {},
   "source": [
    "## Compose Your Data Story\n",
    "\n",
    "Based on the visualizations that you have created, compose a data story that synthesizes your analysis by answering the following questions:"
   ]
  },
  {
   "cell_type": "markdown",
   "metadata": {},
   "source": [
    "**Question:**  How does the trend in rental income growth compare to the trend in sales prices? Does this same trend hold true for all the neighborhoods across San Francisco?\n",
    "\n",
    "**Answer:** # YOUR ANSWER HERE"
   ]
  },
  {
   "cell_type": "markdown",
   "metadata": {},
   "source": [
    "**Question:** What insights can you share with your company about the potential one-click, buy-and-rent strategy that they're pursuing? Do neighborhoods exist that you would suggest for investment, and why?\n",
    "\n",
    "**Answer:** # YOUR ANSWER HERE"
   ]
  },
  {
   "cell_type": "code",
   "execution_count": null,
   "metadata": {},
   "outputs": [],
   "source": []
  }
 ],
 "metadata": {
  "file_extension": ".py",
  "kernelspec": {
   "display_name": "Python 3 (ipykernel)",
   "language": "python",
   "name": "python3"
  },
  "language_info": {
   "codemirror_mode": {
    "name": "ipython",
    "version": 3
   },
   "file_extension": ".py",
   "mimetype": "text/x-python",
   "name": "python",
   "nbconvert_exporter": "python",
   "pygments_lexer": "ipython3",
   "version": "3.9.13"
  },
  "mimetype": "text/x-python",
  "name": "python",
  "npconvert_exporter": "python",
  "pygments_lexer": "ipython3",
  "version": 3,
  "vscode": {
   "interpreter": {
    "hash": "7db335a44948d60d2f332a7ae75618c708d5c2fbe95b059587c0e2d60b0cb6f3"
   }
  }
 },
 "nbformat": 4,
 "nbformat_minor": 4
}
